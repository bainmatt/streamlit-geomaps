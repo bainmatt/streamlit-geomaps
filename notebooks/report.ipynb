{
 "cells": [
  {
   "cell_type": "raw",
   "metadata": {
    "editable": false,
    "vscode": {
     "languageId": "raw"
    }
   },
   "source": [
    "---\n",
    "title: \"ZIP code-level choropleth maps with Plotly and Streamlit\"\n",
    "subtitle: |\n",
    "  Visualizing the geography of the United States at varying levels of granularity\n",
    "abstract: |\n",
    "  I create an interactive visualization of latitude/longitude polygons representing counties, further striated into ZIP codes.\n",
    "date: \"December 2, 2024\"\n",
    "#execute:\n",
    "#  container:\n",
    "#    image: streamlit-geomaps:latest\n",
    "\n",
    "other-links:\n",
    "  - text: Zip Codes Dataset - United States of America\n",
    "    icon: database\n",
    "    href: https://public.opendatasoft.com/explore/dataset/georef-united-states-of-america-zcta5/export/\n",
    "code-links:\n",
    "  - text: Python scripts (src)\n",
    "    icon: file-code\n",
    "    href: https://github.com/bainmatt/streamlit-geomaps/tree/main/src\n",
    "\n",
    "bibliography: refs.bib\n",
    "---"
   ]
  },
  {
   "cell_type": "markdown",
   "metadata": {},
   "source": [
    "## Showcase"
   ]
  },
  {
   "cell_type": "code",
   "execution_count": null,
   "metadata": {},
   "outputs": [],
   "source": [
    "#| include: false\n",
    "#| echo: false\n",
    "\n",
    "import sys\n",
    "from pathlib import Path\n",
    "\n",
    "src_path = Path('..')\n",
    "sys.path.append(str(src_path.resolve()))"
   ]
  },
  {
   "cell_type": "code",
   "execution_count": null,
   "metadata": {},
   "outputs": [],
   "source": [
    "#| include: false\n",
    "#| code-fold: true\n",
    "\n",
    "import pandas as pd\n",
    "from IPython.display import display as display3\n",
    "\n",
    "from src.paths import get_path_to\n",
    "from src.stylesheet import customize_plots\n",
    "from src.inspection import display, display2"
   ]
  },
  {
   "cell_type": "code",
   "execution_count": null,
   "metadata": {},
   "outputs": [],
   "source": [
    "#| include: false\n",
    "\n",
    "customize_plots()\n",
    "%config InlineBackend.figure_format = 'svg'\n",
    "\n",
    "import plotly.io as pio\n",
    "pio.renderers.default = \"notebook\"\n",
    "# pio.renderers.default = \"plotly_mimetype+notebook_connected\""
   ]
  },
  {
   "cell_type": "code",
   "execution_count": null,
   "metadata": {},
   "outputs": [],
   "source": [
    "#| include: false\n",
    "#| output: false\n",
    "#| warning: false\n",
    "#| code-fold: true\n",
    "#| code-summary: Load\n",
    "\n",
    "if 'data' not in locals():\n",
    "    pass\n",
    "else:\n",
    "    print(\"data loaded.\")"
   ]
  },
  {
   "cell_type": "code",
   "execution_count": null,
   "metadata": {},
   "outputs": [],
   "source": [
    "#| include: false\n",
    "#| code-fold: true\n",
    "#| code-summary: Display a subset\n",
    "\n",
    "# data.sample(5)"
   ]
  },
  {
   "cell_type": "code",
   "execution_count": null,
   "metadata": {},
   "outputs": [],
   "source": [
    "#| include: false\n",
    "#| code-fold: true\n",
    "#| code-summary: Display types\n",
    "\n",
    "# data.info(memory_usage=False)"
   ]
  },
  {
   "cell_type": "code",
   "execution_count": null,
   "metadata": {},
   "outputs": [],
   "source": [
    "#| include: false\n",
    "#| code-fold: true\n",
    "#| code-summary: Display a summary\n",
    "\n",
    "# data.describe().round(1).reset_index()"
   ]
  },
  {
   "cell_type": "markdown",
   "metadata": {},
   "source": [
    "<iframe\n",
    "  src=\"https://zipexplorer.streamlit.app?embed=true\"\n",
    "  style=\"height: 450px; width: 100%;\"\n",
    "></iframe>"
   ]
  }
 ],
 "metadata": {
  "kernelspec": {
   "display_name": "streamlit-geomaps",
   "language": "python",
   "name": "python3"
  },
  "language_info": {
   "codemirror_mode": {
    "name": "ipython",
    "version": 3
   },
   "file_extension": ".py",
   "mimetype": "text/x-python",
   "name": "python",
   "nbconvert_exporter": "python",
   "pygments_lexer": "ipython3",
   "version": "3.11.11"
  }
 },
 "nbformat": 4,
 "nbformat_minor": 2
}
