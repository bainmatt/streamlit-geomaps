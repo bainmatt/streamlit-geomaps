{
  "cells": [
    {
      "cell_type": "markdown",
      "metadata": {},
      "source": [
        "# ZIP code-level choropleth maps with Plotly and Streamlit\n",
        "\n",
        "Visualizing the geography of the United States at varying levels of\n",
        "granularity\n",
        "\n",
        "Matthew Bain  \n",
        "2024-12-02\n",
        "\n",
        "I create an interactive visualization of latitude/longitude polygons\n",
        "representing counties, further striated into ZIP codes.\n",
        "\n",
        "## Showcase"
      ],
      "id": "e570b544-bdbf-4c2b-863d-6a36c35acbf5"
    },
    {
      "cell_type": "raw",
      "metadata": {
        "raw_mimetype": "text/html"
      },
      "source": [
        "<iframe src=\"https://zippy-geomaps.streamlit.app?embed=true\" style=\"height: 450px; width: 100%;\">"
      ],
      "id": "63f5ddc2-0e95-4f24-956f-e3d16860dbf5"
    },
    {
      "cell_type": "raw",
      "metadata": {
        "raw_mimetype": "text/html"
      },
      "source": [
        "</iframe>"
      ],
      "id": "4d1608ba-f98d-45bb-a7eb-54f2f8000fa1"
    }
  ],
  "nbformat": 4,
  "nbformat_minor": 5,
  "metadata": {
    "kernelspec": {
      "name": "python3",
      "display_name": "streamlit-geomaps",
      "language": "python"
    },
    "language_info": {
      "name": "python",
      "codemirror_mode": {
        "name": "ipython",
        "version": "3"
      },
      "file_extension": ".py",
      "mimetype": "text/x-python",
      "nbconvert_exporter": "python",
      "pygments_lexer": "ipython3",
      "version": "3.11.11"
    }
  }
}