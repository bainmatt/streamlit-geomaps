{
  "cells": [
    {
      "cell_type": "markdown",
      "metadata": {},
      "source": [
        "# ZIP code-level choropleth maps with Plotly and Streamlit\n",
        "\n",
        "Visualizing the geography of the United States at varying levels of\n",
        "granularity\n",
        "\n",
        "Matthew Bain  \n",
        "2024-12-02\n",
        "\n",
        "I create an interactive visualization of latitude/longitude polygons\n",
        "representing counties, further striated into ZIP codes.\n",
        "\n",
        "\\[…\\]\n",
        "\n",
        "## Imports"
      ],
      "id": "8534c81e-87c8-46e2-8435-dfeabb7512ee"
    },
    {
      "cell_type": "code",
      "execution_count": null,
      "metadata": {},
      "outputs": [],
      "source": [
        "import pandas as pd\n",
        "import matplotlib.pyplot as plt\n",
        "from IPython.display import display as display3\n",
        "\n",
        "from src.paths import get_path_to\n",
        "from src.stylesheet import customize_plots\n",
        "from src.inspection import display, display2"
      ],
      "id": "cell-4"
    },
    {
      "cell_type": "markdown",
      "metadata": {},
      "source": [
        "## The dataset"
      ],
      "id": "834787f2-61a9-4b5d-a64c-82dab8962b25"
    },
    {
      "cell_type": "code",
      "execution_count": null,
      "metadata": {},
      "outputs": [],
      "source": [
        "if 'data' not in locals():\n",
        "    # data = pd.read_csv(\n",
        "    #     get_path_to(\"data\", \"raw\", \"\"),\n",
        "    #     encoding='ISO-8859-1',\n",
        "    #     low_memory=False\n",
        "    # )\n",
        "    pass\n",
        "else:\n",
        "    print(\"data loaded.\")"
      ],
      "id": "cell-7"
    },
    {
      "cell_type": "code",
      "execution_count": null,
      "metadata": {},
      "outputs": [],
      "source": [
        "# data.sample(5)"
      ],
      "id": "cell-8"
    },
    {
      "cell_type": "code",
      "execution_count": null,
      "metadata": {},
      "outputs": [],
      "source": [
        "# data.describe().round(1).reset_index()"
      ],
      "id": "cell-10"
    }
  ],
  "nbformat": 4,
  "nbformat_minor": 5,
  "metadata": {
    "kernelspec": {
      "name": "python3",
      "display_name": "streamlit-geomaps",
      "language": "python"
    },
    "language_info": {
      "name": "python",
      "codemirror_mode": {
        "name": "ipython",
        "version": "3"
      },
      "file_extension": ".py",
      "mimetype": "text/x-python",
      "nbconvert_exporter": "python",
      "pygments_lexer": "ipython3",
      "version": "3.11.0"
    }
  }
}