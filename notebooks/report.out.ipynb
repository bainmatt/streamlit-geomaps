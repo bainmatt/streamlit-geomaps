{
  "cells": [
    {
      "cell_type": "markdown",
      "metadata": {},
      "source": [
        "# ZIP code-level choropleth maps with Plotly and Streamlit\n",
        "\n",
        "Visualizing the geography of the United States at varying levels of\n",
        "granularity\n",
        "\n",
        "Matthew Bain  \n",
        "2024-12-02\n",
        "\n",
        "I create an interactive visualization of latitude/longitude polygons\n",
        "representing counties, further striated into ZIP codes.\n",
        "\n",
        "\\[…\\]\n",
        "\n",
        "## Imports"
      ],
      "id": "7730157d-d054-4ed8-ba32-8e1553230842"
    },
    {
      "cell_type": "code",
      "execution_count": null,
      "metadata": {},
      "outputs": [],
      "source": [
        "import pandas as pd\n",
        "from IPython.display import display as display3\n",
        "\n",
        "from src.paths import get_path_to\n",
        "from src.stylesheet import customize_plots\n",
        "from src.inspection import display, display2"
      ],
      "id": "cell-4"
    },
    {
      "cell_type": "markdown",
      "metadata": {},
      "source": [
        "## The dataset"
      ],
      "id": "ecc10c7e-721e-4b51-bc78-2801e2f22584"
    },
    {
      "cell_type": "code",
      "execution_count": null,
      "metadata": {},
      "outputs": [],
      "source": [
        "if 'data' not in locals():\n",
        "    pass\n",
        "else:\n",
        "    print(\"data loaded.\")"
      ],
      "id": "cell-7"
    },
    {
      "cell_type": "code",
      "execution_count": null,
      "metadata": {},
      "outputs": [],
      "source": [
        "# data.sample(5)"
      ],
      "id": "cell-8"
    },
    {
      "cell_type": "code",
      "execution_count": null,
      "metadata": {},
      "outputs": [],
      "source": [
        "# data.describe().round(1).reset_index()"
      ],
      "id": "cell-10"
    }
  ],
  "nbformat": 4,
  "nbformat_minor": 5,
  "metadata": {
    "kernelspec": {
      "name": "python3",
      "display_name": "streamlit-geomaps",
      "language": "python"
    },
    "language_info": {
      "name": "python",
      "codemirror_mode": {
        "name": "ipython",
        "version": "3"
      },
      "file_extension": ".py",
      "mimetype": "text/x-python",
      "nbconvert_exporter": "python",
      "pygments_lexer": "ipython3",
      "version": "3.11.0"
    }
  }
}