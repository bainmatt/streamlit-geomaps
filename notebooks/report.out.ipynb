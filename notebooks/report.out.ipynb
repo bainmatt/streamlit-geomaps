{
  "cells": [
    {
      "cell_type": "markdown",
      "metadata": {},
      "source": [
        "# ZIP code-level choropleth maps with Plotly and Streamlit\n",
        "\n",
        "Visualizing the geography of the United States at varying levels of\n",
        "granularity\n",
        "\n",
        "Matthew Bain  \n",
        "2024-12-02\n",
        "\n",
        "I create an interactive visualization of latitude/longitude polygons\n",
        "representing counties, further striated into ZIP codes.\n",
        "\n",
        "## Showcase"
      ],
      "id": "46f2221c-d7e2-4635-80e1-ccc68622fb4d"
    },
    {
      "cell_type": "raw",
      "metadata": {
        "raw_mimetype": "text/html"
      },
      "source": [
        "<iframe src=\"https://zippy-geomaps.streamlit.app?embed=true\" style=\"height: 450px; width: 100%;\">"
      ],
      "id": "a05e2eee-5fa9-43ff-84b3-b4f3162d878e"
    },
    {
      "cell_type": "raw",
      "metadata": {
        "raw_mimetype": "text/html"
      },
      "source": [
        "</iframe>"
      ],
      "id": "fd69d7cb-452c-4f2e-bce1-2992b52c7490"
    }
  ],
  "nbformat": 4,
  "nbformat_minor": 5,
  "metadata": {
    "kernelspec": {
      "name": "python3",
      "display_name": "streamlit-geomaps",
      "language": "python"
    },
    "language_info": {
      "name": "python",
      "codemirror_mode": {
        "name": "ipython",
        "version": "3"
      },
      "file_extension": ".py",
      "mimetype": "text/x-python",
      "nbconvert_exporter": "python",
      "pygments_lexer": "ipython3",
      "version": "3.11.11"
    }
  }
}